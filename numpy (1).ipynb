{
 "cells": [
  {
   "cell_type": "code",
   "execution_count": 3,
   "id": "41ac00d5-c03e-4a35-b3a9-091c17aea871",
   "metadata": {},
   "outputs": [
    {
     "data": {
      "text/plain": [
       "array([1, 2, 3, 4])"
      ]
     },
     "execution_count": 3,
     "metadata": {},
     "output_type": "execute_result"
    }
   ],
   "source": [
    "import numpy as np #numerical python\n",
    "#1d -- a[5]\n",
    "#2d --a[2][4]\n",
    "#creating an array\n",
    "lst=[1,2,3,4]\n",
    "arr1=np.array(lst)\n",
    "arr1"
   ]
  },
  {
   "cell_type": "code",
   "execution_count": 5,
   "id": "7c82b33c-1590-49ab-b219-49cfa34c10fa",
   "metadata": {},
   "outputs": [
    {
     "data": {
      "text/plain": [
       "array([ 1,  2,  3,  4,  5,  6,  7,  8,  9, 10])"
      ]
     },
     "execution_count": 5,
     "metadata": {},
     "output_type": "execute_result"
    }
   ],
   "source": [
    "## a range\n",
    "arr2=np.arange(1,11)\n",
    "arr2"
   ]
  },
  {
   "cell_type": "code",
   "execution_count": 7,
   "id": "fb627a6d-d45f-47f0-b1db-61d48ac23e0f",
   "metadata": {},
   "outputs": [
    {
     "data": {
      "text/plain": [
       "array([0., 0., 0., 0., 0., 0., 0.])"
      ]
     },
     "execution_count": 7,
     "metadata": {},
     "output_type": "execute_result"
    }
   ],
   "source": [
    "#matrix\n",
    "arr3=np.ones(2)\n",
    "arr3\n",
    "arr4=np.zeros(7)\n",
    "arr4"
   ]
  },
  {
   "cell_type": "code",
   "execution_count": 8,
   "id": "ae4c94cd-25b8-4690-8fc0-125c94040a6b",
   "metadata": {},
   "outputs": [
    {
     "data": {
      "text/plain": [
       "array([ 1.        ,  1.47368421,  1.94736842,  2.42105263,  2.89473684,\n",
       "        3.36842105,  3.84210526,  4.31578947,  4.78947368,  5.26315789,\n",
       "        5.73684211,  6.21052632,  6.68421053,  7.15789474,  7.63157895,\n",
       "        8.10526316,  8.57894737,  9.05263158,  9.52631579, 10.        ])"
      ]
     },
     "execution_count": 8,
     "metadata": {},
     "output_type": "execute_result"
    }
   ],
   "source": [
    "arr5=np.linspace(1,10,20)\n",
    "arr5"
   ]
  },
  {
   "cell_type": "code",
   "execution_count": 10,
   "id": "ddef6e2d-7e30-4cde-b9a6-2773a5757307",
   "metadata": {},
   "outputs": [
    {
     "data": {
      "text/plain": [
       "array([[0., 0., 0.],\n",
       "       [0., 0., 0.]])"
      ]
     },
     "execution_count": 10,
     "metadata": {},
     "output_type": "execute_result"
    }
   ],
   "source": [
    "#2d array --matrix -- m x n\n",
    "#m=rows\n",
    "#n=columns\n",
    "arr6=np.zeros((2,3))\n",
    "arr6\n"
   ]
  },
  {
   "cell_type": "code",
   "execution_count": 12,
   "id": "edf144a3-b47f-4f92-8e19-4022e3282cb8",
   "metadata": {},
   "outputs": [
    {
     "data": {
      "text/plain": [
       "array([[ 1,  2,  3,  4,  5],\n",
       "       [ 6,  7,  8,  9, 10],\n",
       "       [11, 12, 13, 14, 15],\n",
       "       [16, 17, 18, 19, 20],\n",
       "       [21, 22, 23, 24, 25],\n",
       "       [26, 27, 28, 29, 30]])"
      ]
     },
     "execution_count": 12,
     "metadata": {},
     "output_type": "execute_result"
    }
   ],
   "source": [
    "#reshape\n",
    "import numpy as np\n",
    "arr5=np.arange(1,31).reshape(6,5)\n",
    "arr5"
   ]
  },
  {
   "cell_type": "code",
   "execution_count": 12,
   "id": "62f144a6-c9ce-45f6-b953-ef8118369e0b",
   "metadata": {},
   "outputs": [
    {
     "data": {
      "text/plain": [
       "array([1, 1, 2, 1, 1, 1, 3, 3, 3, 2, 2, 3, 2, 3, 1, 1, 1, 3])"
      ]
     },
     "execution_count": 12,
     "metadata": {},
     "output_type": "execute_result"
    }
   ],
   "source": [
    "##\n",
    "arr6=np.random.randint(1,4,18) #its range in 1 to 4 and 18 numbers will be generate\n",
    "arr6"
   ]
  },
  {
   "cell_type": "code",
   "execution_count": 14,
   "id": "c91b7d2b-3e67-4da7-ac27-f34a5c258abb",
   "metadata": {},
   "outputs": [
    {
     "data": {
      "text/plain": [
       "array([[3, 6, 1, 6, 6, 3],\n",
       "       [8, 5, 5, 7, 2, 4]])"
      ]
     },
     "execution_count": 14,
     "metadata": {},
     "output_type": "execute_result"
    }
   ],
   "source": [
    "arr7=np.random.randint(1,10,(2,6)) #(2,6) is used to create a 2d array of random numbers\n",
    "arr7"
   ]
  },
  {
   "cell_type": "code",
   "execution_count": 19,
   "id": "686a650f-7bd8-4be9-946d-4c1a10f6e7f4",
   "metadata": {},
   "outputs": [
    {
     "data": {
      "text/plain": [
       "array([[50, 55,  1, 16, 20],\n",
       "       [ 3, 28, 29, 48, 24],\n",
       "       [41, 54, 47, 22, 15],\n",
       "       [ 1, 39, 39, 34,  5],\n",
       "       [16, 31, 35, 16, 50],\n",
       "       [45, 18, 57, 54,  3]])"
      ]
     },
     "execution_count": 19,
     "metadata": {},
     "output_type": "execute_result"
    }
   ],
   "source": [
    "arr8=np.random.randint(1,60,(6,5))\n",
    "arr8"
   ]
  },
  {
   "cell_type": "code",
   "execution_count": 17,
   "id": "2cb54e2a-c3bf-4c76-8402-27263344656e",
   "metadata": {},
   "outputs": [
    {
     "data": {
      "text/plain": [
       "array([[ 0,  1,  2,  3,  4],\n",
       "       [ 5,  6,  7,  8,  9],\n",
       "       [10, 11, 12, 13, 14],\n",
       "       [15, 16, 17, 18, 19],\n",
       "       [20, 21, 22, 23, 24],\n",
       "       [25, 26, 27, 28, 29],\n",
       "       [30, 31, 32, 33, 34],\n",
       "       [35, 36, 37, 38, 39],\n",
       "       [40, 41, 42, 43, 44],\n",
       "       [45, 46, 47, 48, 49],\n",
       "       [50, 51, 52, 53, 54],\n",
       "       [55, 56, 57, 58, 59]])"
      ]
     },
     "execution_count": 17,
     "metadata": {},
     "output_type": "execute_result"
    }
   ],
   "source": [
    "arr7=np.arange(60).reshape((12,5))\n",
    "arr7"
   ]
  },
  {
   "cell_type": "code",
   "execution_count": 20,
   "id": "ab68d331-84b7-4668-bf72-e4a6983ad1bb",
   "metadata": {},
   "outputs": [
    {
     "data": {
      "text/plain": [
       "(12, 5)"
      ]
     },
     "execution_count": 20,
     "metadata": {},
     "output_type": "execute_result"
    }
   ],
   "source": [
    "arr7.shape # it tells about the number of rows and columns"
   ]
  },
  {
   "cell_type": "code",
   "execution_count": 21,
   "id": "803dbd8b-99a1-49be-aced-9dbb850fa71d",
   "metadata": {},
   "outputs": [
    {
     "data": {
      "text/plain": [
       "dtype('int32')"
      ]
     },
     "execution_count": 21,
     "metadata": {},
     "output_type": "execute_result"
    }
   ],
   "source": [
    "arr7.dtype #  it tells about the data type"
   ]
  },
  {
   "cell_type": "code",
   "execution_count": 22,
   "id": "938a21ed-6d8a-4403-95f9-54425682cbde",
   "metadata": {},
   "outputs": [
    {
     "data": {
      "text/plain": [
       "2"
      ]
     },
     "execution_count": 22,
     "metadata": {},
     "output_type": "execute_result"
    }
   ],
   "source": [
    "arr7.ndim  #  it tells about the dimensation"
   ]
  },
  {
   "cell_type": "code",
   "execution_count": 23,
   "id": "abfde930-cf8f-43f7-99b6-a86f8c755bee",
   "metadata": {},
   "outputs": [
    {
     "data": {
      "text/plain": [
       "60"
      ]
     },
     "execution_count": 23,
     "metadata": {},
     "output_type": "execute_result"
    }
   ],
   "source": [
    "arr7.size #  it tells about size of an array"
   ]
  },
  {
   "cell_type": "code",
   "execution_count": 24,
   "id": "4e773a75-96ba-4e51-9d94-3d7eef5c6e66",
   "metadata": {},
   "outputs": [
    {
     "data": {
      "text/plain": [
       "array([ 0,  1,  2,  3,  4,  5,  6,  7,  8,  9, 10, 11, 12, 13, 14, 15, 16,\n",
       "       17, 18, 19, 20, 21, 22, 23, 24, 25, 26, 27, 28, 29, 30, 31, 32, 33,\n",
       "       34, 35, 36, 37, 38, 39, 40, 41, 42, 43, 44, 45, 46, 47, 48, 49, 50,\n",
       "       51, 52, 53, 54, 55, 56, 57, 58, 59])"
      ]
     },
     "execution_count": 24,
     "metadata": {},
     "output_type": "execute_result"
    }
   ],
   "source": [
    "arr7.flatten() #  it convert 2d into 1d \n",
    "arr7.ravel()"
   ]
  },
  {
   "cell_type": "code",
   "execution_count": 26,
   "id": "d2a30711-7e03-4bc0-b40e-1631cf2abc49",
   "metadata": {},
   "outputs": [
    {
     "data": {
      "text/plain": [
       "(5, 12)"
      ]
     },
     "execution_count": 26,
     "metadata": {},
     "output_type": "execute_result"
    }
   ],
   "source": [
    "arr8=arr7.T # it helps to transpose the previous array in another \n",
    "arr8.shape"
   ]
  },
  {
   "cell_type": "code",
   "execution_count": 28,
   "id": "381d274c-4da8-459c-8ba7-935beb29cd6e",
   "metadata": {},
   "outputs": [
    {
     "data": {
      "text/plain": [
       "array([1, 2, 3, 4, 5, 6, 7, 8, 9])"
      ]
     },
     "execution_count": 28,
     "metadata": {},
     "output_type": "execute_result"
    }
   ],
   "source": [
    "#accessing and slicing in array\n",
    "arr8=np.arange(1,10)\n",
    "arr8"
   ]
  },
  {
   "cell_type": "code",
   "execution_count": 29,
   "id": "c0079da0-8311-4daf-bd5c-373924c217b3",
   "metadata": {},
   "outputs": [
    {
     "data": {
      "text/plain": [
       "array([  1,   2,   3,   4,   5,   6, 600,   8,   9])"
      ]
     },
     "execution_count": 29,
     "metadata": {},
     "output_type": "execute_result"
    }
   ],
   "source": [
    "arr8[6]=600 # insert a new input\n",
    "arr8"
   ]
  },
  {
   "cell_type": "code",
   "execution_count": 31,
   "id": "4854147d-6862-4102-85e3-c65d9689f73f",
   "metadata": {},
   "outputs": [
    {
     "data": {
      "text/plain": [
       "array([2, 3, 4, 5])"
      ]
     },
     "execution_count": 31,
     "metadata": {},
     "output_type": "execute_result"
    }
   ],
   "source": [
    "arr8[1:5] # this is slicing of a list\n"
   ]
  },
  {
   "cell_type": "code",
   "execution_count": 37,
   "id": "f46cba19-5982-4fdf-a5e6-b83633c654c7",
   "metadata": {},
   "outputs": [
    {
     "data": {
      "text/plain": [
       "array([[ 0,  1,  2,  3,  4],\n",
       "       [ 5,  6,  7,  8,  9],\n",
       "       [10, 11, 12, 13, 14],\n",
       "       [15, 16, 17, 18, 19],\n",
       "       [20, 21, 22, 23, 24],\n",
       "       [25, 26, 27, 28, 29],\n",
       "       [30, 31, 32, 33, 34],\n",
       "       [35, 36, 37, 38, 39],\n",
       "       [40, 41, 42, 43, 44],\n",
       "       [45, 46, 47, 48, 49],\n",
       "       [50, 51, 52, 53, 54],\n",
       "       [55, 56, 57, 58, 59]])"
      ]
     },
     "execution_count": 37,
     "metadata": {},
     "output_type": "execute_result"
    }
   ],
   "source": [
    "arr7=np.arange(60).reshape((12,5))\n",
    "arr7"
   ]
  },
  {
   "cell_type": "code",
   "execution_count": 34,
   "id": "47f0bde2-ba28-4d06-8b93-86fe69761030",
   "metadata": {},
   "outputs": [
    {
     "data": {
      "text/plain": [
       "array([0, 1, 2, 3, 4])"
      ]
     },
     "execution_count": 34,
     "metadata": {},
     "output_type": "execute_result"
    }
   ],
   "source": [
    "#2d- array --[row start:end:row skip,columns start:stop:skip]\n",
    "arr7[0]\n"
   ]
  },
  {
   "cell_type": "code",
   "execution_count": 35,
   "id": "8f3ea86b-a7b3-4c64-bf90-b8792439d682",
   "metadata": {},
   "outputs": [
    {
     "data": {
      "text/plain": [
       "array([[ 0,  1,  2,  3,  4],\n",
       "       [ 5,  6,  7,  8,  9],\n",
       "       [10, 11, 12, 13, 14],\n",
       "       [15, 16, 17, 18, 19],\n",
       "       [20, 21, 22, 23, 24],\n",
       "       [25, 26, 27, 28, 29]])"
      ]
     },
     "execution_count": 35,
     "metadata": {},
     "output_type": "execute_result"
    }
   ],
   "source": [
    "arr7[0:6]"
   ]
  },
  {
   "cell_type": "code",
   "execution_count": 36,
   "id": "cd7c7be5-0669-4d45-95c6-c1b8c6c324e0",
   "metadata": {},
   "outputs": [
    {
     "data": {
      "text/plain": [
       "array([[ 0,  1],\n",
       "       [ 5,  6],\n",
       "       [10, 11],\n",
       "       [15, 16],\n",
       "       [20, 21],\n",
       "       [25, 26]])"
      ]
     },
     "execution_count": 36,
     "metadata": {},
     "output_type": "execute_result"
    }
   ],
   "source": [
    "arr7[0:6,0:2]"
   ]
  },
  {
   "cell_type": "code",
   "execution_count": 53,
   "id": "e9d32d37-27e4-4811-8e34-5e5399cc8ecc",
   "metadata": {},
   "outputs": [
    {
     "data": {
      "text/plain": [
       "array([[ 2, 11, 20, 28, 33, 25],\n",
       "       [ 4,  3, 12,  8, 15, 21]])"
      ]
     },
     "execution_count": 53,
     "metadata": {},
     "output_type": "execute_result"
    }
   ],
   "source": [
    "arr4=np.random.randint(1.0,34.0,(2,6))\n",
    "arr4"
   ]
  },
  {
   "cell_type": "code",
   "execution_count": 41,
   "id": "b2f3a1d4-8604-420f-95bd-0c00cb9ce97d",
   "metadata": {},
   "outputs": [
    {
     "data": {
      "text/plain": [
       "array([[ 0,  1,  2,  3,  4],\n",
       "       [ 5,  6,  7,  8,  9],\n",
       "       [10, 11, 12, 13, 14],\n",
       "       [15, 16, 17, 18, 19],\n",
       "       [20, 21, 22, 23, 24],\n",
       "       [25, 26, 27, 28, 29],\n",
       "       [30, 31, 32, 33, 34],\n",
       "       [35, 36, 37, 38, 39],\n",
       "       [40, 41, 42, 43, 44],\n",
       "       [45, 46, 47, 48, 49],\n",
       "       [50, 51, 52, 53, 54],\n",
       "       [55, 56, 57, 58, 59]])"
      ]
     },
     "execution_count": 41,
     "metadata": {},
     "output_type": "execute_result"
    }
   ],
   "source": [
    "arr7[-5:-1]\n",
    "arr7"
   ]
  },
  {
   "cell_type": "code",
   "execution_count": 43,
   "id": "deee4afd-ecde-4448-b9f6-d6f4948f4b25",
   "metadata": {},
   "outputs": [
    {
     "data": {
      "text/plain": [
       "array([[[4, 1, 5, 6, 4, 9, 1],\n",
       "        [5, 2, 5, 7, 9, 7, 2],\n",
       "        [8, 4, 1, 4, 6, 2, 8]],\n",
       "\n",
       "       [[3, 5, 6, 2, 6, 9, 3],\n",
       "        [2, 3, 3, 6, 5, 8, 2],\n",
       "        [7, 9, 1, 8, 7, 8, 3]]])"
      ]
     },
     "execution_count": 43,
     "metadata": {},
     "output_type": "execute_result"
    }
   ],
   "source": [
    "#creating 3d\n",
    "arr=np.random.randint(1,10,(2,3,7)) #3d array     2->table,3->rows,7->columns\n",
    "arr"
   ]
  },
  {
   "cell_type": "code",
   "execution_count": 62,
   "id": "7aaaf64d-8f1e-463b-bc73-1f2a16483105",
   "metadata": {},
   "outputs": [
    {
     "data": {
      "text/plain": [
       "array([[[ 0,  1,  2,  3,  4,  5,  6,  7,  8,  9],\n",
       "        [10, 11, 12, 13, 14, 15, 16, 17, 18, 19],\n",
       "        [20, 21, 22, 23, 24, 25, 26, 27, 28, 29]],\n",
       "\n",
       "       [[30, 31, 32, 33, 34, 35, 36, 37, 38, 39],\n",
       "        [40, 41, 42, 43, 44, 45, 46, 47, 48, 49],\n",
       "        [50, 51, 52, 53, 54, 55, 56, 57, 58, 59]]])"
      ]
     },
     "execution_count": 62,
     "metadata": {},
     "output_type": "execute_result"
    }
   ],
   "source": [
    "arr10=np.arange(60).reshape((2,3,10)) #reshape values must be multiple and equals to arange value\n",
    "arr10"
   ]
  },
  {
   "cell_type": "code",
   "execution_count": 64,
   "id": "129a1eaf-02eb-422a-9a13-98cca6c81249",
   "metadata": {},
   "outputs": [
    {
     "data": {
      "text/plain": [
       "array([[[  0,   1,   2,   3,   4],\n",
       "        [  5,   6,   7,   8,   9],\n",
       "        [ 10,  11,  12,  13,  14],\n",
       "        [ 15,  16,  17,  18,  19],\n",
       "        [ 20,  21,  22,  23,  24]],\n",
       "\n",
       "       [[ 25,  26,  27,  28,  29],\n",
       "        [ 30,  31,  32,  33,  34],\n",
       "        [ 35,  36,  37,  38,  39],\n",
       "        [ 40,  41,  42,  43,  44],\n",
       "        [ 45,  46,  47,  48,  49]],\n",
       "\n",
       "       [[ 50,  51,  52,  53,  54],\n",
       "        [ 55,  56,  57,  58,  59],\n",
       "        [ 60,  61,  62,  63,  64],\n",
       "        [ 65,  66,  67,  68,  69],\n",
       "        [ 70,  71,  72,  73,  74]],\n",
       "\n",
       "       [[ 75,  76,  77,  78,  79],\n",
       "        [ 80,  81,  82,  83,  84],\n",
       "        [ 85,  86,  87,  88,  89],\n",
       "        [ 90,  91,  92,  93,  94],\n",
       "        [ 95,  96,  97,  98,  99]],\n",
       "\n",
       "       [[100, 101, 102, 103, 104],\n",
       "        [105, 106, 107, 108, 109],\n",
       "        [110, 111, 112, 113, 114],\n",
       "        [115, 116, 117, 118, 119],\n",
       "        [120, 121, 122, 123, 124]],\n",
       "\n",
       "       [[125, 126, 127, 128, 129],\n",
       "        [130, 131, 132, 133, 134],\n",
       "        [135, 136, 137, 138, 139],\n",
       "        [140, 141, 142, 143, 144],\n",
       "        [145, 146, 147, 148, 149]],\n",
       "\n",
       "       [[150, 151, 152, 153, 154],\n",
       "        [155, 156, 157, 158, 159],\n",
       "        [160, 161, 162, 163, 164],\n",
       "        [165, 166, 167, 168, 169],\n",
       "        [170, 171, 172, 173, 174]],\n",
       "\n",
       "       [[175, 176, 177, 178, 179],\n",
       "        [180, 181, 182, 183, 184],\n",
       "        [185, 186, 187, 188, 189],\n",
       "        [190, 191, 192, 193, 194],\n",
       "        [195, 196, 197, 198, 199]],\n",
       "\n",
       "       [[200, 201, 202, 203, 204],\n",
       "        [205, 206, 207, 208, 209],\n",
       "        [210, 211, 212, 213, 214],\n",
       "        [215, 216, 217, 218, 219],\n",
       "        [220, 221, 222, 223, 224]],\n",
       "\n",
       "       [[225, 226, 227, 228, 229],\n",
       "        [230, 231, 232, 233, 234],\n",
       "        [235, 236, 237, 238, 239],\n",
       "        [240, 241, 242, 243, 244],\n",
       "        [245, 246, 247, 248, 249]],\n",
       "\n",
       "       [[250, 251, 252, 253, 254],\n",
       "        [255, 256, 257, 258, 259],\n",
       "        [260, 261, 262, 263, 264],\n",
       "        [265, 266, 267, 268, 269],\n",
       "        [270, 271, 272, 273, 274]],\n",
       "\n",
       "       [[275, 276, 277, 278, 279],\n",
       "        [280, 281, 282, 283, 284],\n",
       "        [285, 286, 287, 288, 289],\n",
       "        [290, 291, 292, 293, 294],\n",
       "        [295, 296, 297, 298, 299]],\n",
       "\n",
       "       [[300, 301, 302, 303, 304],\n",
       "        [305, 306, 307, 308, 309],\n",
       "        [310, 311, 312, 313, 314],\n",
       "        [315, 316, 317, 318, 319],\n",
       "        [320, 321, 322, 323, 324]],\n",
       "\n",
       "       [[325, 326, 327, 328, 329],\n",
       "        [330, 331, 332, 333, 334],\n",
       "        [335, 336, 337, 338, 339],\n",
       "        [340, 341, 342, 343, 344],\n",
       "        [345, 346, 347, 348, 349]],\n",
       "\n",
       "       [[350, 351, 352, 353, 354],\n",
       "        [355, 356, 357, 358, 359],\n",
       "        [360, 361, 362, 363, 364],\n",
       "        [365, 366, 367, 368, 369],\n",
       "        [370, 371, 372, 373, 374]],\n",
       "\n",
       "       [[375, 376, 377, 378, 379],\n",
       "        [380, 381, 382, 383, 384],\n",
       "        [385, 386, 387, 388, 389],\n",
       "        [390, 391, 392, 393, 394],\n",
       "        [395, 396, 397, 398, 399]],\n",
       "\n",
       "       [[400, 401, 402, 403, 404],\n",
       "        [405, 406, 407, 408, 409],\n",
       "        [410, 411, 412, 413, 414],\n",
       "        [415, 416, 417, 418, 419],\n",
       "        [420, 421, 422, 423, 424]],\n",
       "\n",
       "       [[425, 426, 427, 428, 429],\n",
       "        [430, 431, 432, 433, 434],\n",
       "        [435, 436, 437, 438, 439],\n",
       "        [440, 441, 442, 443, 444],\n",
       "        [445, 446, 447, 448, 449]],\n",
       "\n",
       "       [[450, 451, 452, 453, 454],\n",
       "        [455, 456, 457, 458, 459],\n",
       "        [460, 461, 462, 463, 464],\n",
       "        [465, 466, 467, 468, 469],\n",
       "        [470, 471, 472, 473, 474]],\n",
       "\n",
       "       [[475, 476, 477, 478, 479],\n",
       "        [480, 481, 482, 483, 484],\n",
       "        [485, 486, 487, 488, 489],\n",
       "        [490, 491, 492, 493, 494],\n",
       "        [495, 496, 497, 498, 499]],\n",
       "\n",
       "       [[500, 501, 502, 503, 504],\n",
       "        [505, 506, 507, 508, 509],\n",
       "        [510, 511, 512, 513, 514],\n",
       "        [515, 516, 517, 518, 519],\n",
       "        [520, 521, 522, 523, 524]],\n",
       "\n",
       "       [[525, 526, 527, 528, 529],\n",
       "        [530, 531, 532, 533, 534],\n",
       "        [535, 536, 537, 538, 539],\n",
       "        [540, 541, 542, 543, 544],\n",
       "        [545, 546, 547, 548, 549]],\n",
       "\n",
       "       [[550, 551, 552, 553, 554],\n",
       "        [555, 556, 557, 558, 559],\n",
       "        [560, 561, 562, 563, 564],\n",
       "        [565, 566, 567, 568, 569],\n",
       "        [570, 571, 572, 573, 574]],\n",
       "\n",
       "       [[575, 576, 577, 578, 579],\n",
       "        [580, 581, 582, 583, 584],\n",
       "        [585, 586, 587, 588, 589],\n",
       "        [590, 591, 592, 593, 594],\n",
       "        [595, 596, 597, 598, 599]],\n",
       "\n",
       "       [[600, 601, 602, 603, 604],\n",
       "        [605, 606, 607, 608, 609],\n",
       "        [610, 611, 612, 613, 614],\n",
       "        [615, 616, 617, 618, 619],\n",
       "        [620, 621, 622, 623, 624]]])"
      ]
     },
     "execution_count": 64,
     "metadata": {},
     "output_type": "execute_result"
    }
   ],
   "source": [
    "arr10=np.arange(625).reshape((25,5,5)) #reshape values must be multiple and equals to arange value\n",
    "arr10"
   ]
  },
  {
   "cell_type": "code",
   "execution_count": 66,
   "id": "b2b415c1-7651-4b09-b0e6-fde6043c18a7",
   "metadata": {},
   "outputs": [
    {
     "data": {
      "text/plain": [
       "array([[[4, 1, 5],\n",
       "        [5, 2, 5],\n",
       "        [8, 4, 1]],\n",
       "\n",
       "       [[3, 5, 6],\n",
       "        [2, 3, 3],\n",
       "        [7, 9, 1]]])"
      ]
     },
     "execution_count": 66,
     "metadata": {},
     "output_type": "execute_result"
    }
   ],
   "source": [
    "## 3d array --[table start:end :skip,row start:end:skip,columns start:end:skip]\n",
    "arr[0:2,0:6,0:3]\n"
   ]
  },
  {
   "cell_type": "code",
   "execution_count": 67,
   "id": "a1c2da3e-6f56-46b9-81e7-fec302ced601",
   "metadata": {},
   "outputs": [
    {
     "data": {
      "text/plain": [
       "array([[[ 0,  1,  2,  3,  4,  5,  6,  7,  8,  9],\n",
       "        [10, 11, 12, 13, 14, 15, 16, 17, 18, 19]],\n",
       "\n",
       "       [[20, 21, 22, 23, 24, 25, 26, 27, 28, 29],\n",
       "        [30, 31, 32, 33, 34, 35, 36, 37, 38, 39]],\n",
       "\n",
       "       [[40, 41, 42, 43, 44, 45, 46, 47, 48, 49],\n",
       "        [50, 51, 52, 53, 54, 55, 56, 57, 58, 59]]])"
      ]
     },
     "execution_count": 67,
     "metadata": {},
     "output_type": "execute_result"
    }
   ],
   "source": [
    "arr=np.arange(60).reshape((3,2,10))\n",
    "arr"
   ]
  },
  {
   "cell_type": "code",
   "execution_count": 74,
   "id": "b6a97503-66cc-4808-a7ee-ff74f0a0fff2",
   "metadata": {},
   "outputs": [
    {
     "data": {
      "text/plain": [
       "array([[[ 2],\n",
       "        [12]],\n",
       "\n",
       "       [[22],\n",
       "        [32]],\n",
       "\n",
       "       [[42],\n",
       "        [52]]])"
      ]
     },
     "execution_count": 74,
     "metadata": {},
     "output_type": "execute_result"
    }
   ],
   "source": [
    "arr[0:10,0:2,2:3]"
   ]
  },
  {
   "cell_type": "code",
   "execution_count": null,
   "id": "127eb305-4d42-473e-aee7-667f2802ce75",
   "metadata": {},
   "outputs": [],
   "source": []
  },
  {
   "cell_type": "code",
   "execution_count": null,
   "id": "59a3b149-3719-4304-a2bf-6d54f25126f0",
   "metadata": {},
   "outputs": [],
   "source": []
  },
  {
   "cell_type": "code",
   "execution_count": null,
   "id": "05fd5a04-36b2-409b-92e1-31c6feefa249",
   "metadata": {},
   "outputs": [],
   "source": []
  },
  {
   "cell_type": "code",
   "execution_count": null,
   "id": "7d32b542-a364-40ba-b4ff-c36f4202afab",
   "metadata": {},
   "outputs": [],
   "source": []
  },
  {
   "cell_type": "code",
   "execution_count": null,
   "id": "f09fcf6c-a5bc-4bf1-b6c0-e488ca300896",
   "metadata": {},
   "outputs": [],
   "source": []
  },
  {
   "cell_type": "code",
   "execution_count": null,
   "id": "88c7edbe-62c9-41c8-ade2-0a33b0c57043",
   "metadata": {},
   "outputs": [],
   "source": []
  },
  {
   "cell_type": "code",
   "execution_count": null,
   "id": "94a153a6-32a9-47f3-b839-ed55792a0dee",
   "metadata": {},
   "outputs": [],
   "source": []
  },
  {
   "cell_type": "code",
   "execution_count": null,
   "id": "849e021f-9c09-4119-86ae-2e1a390e026e",
   "metadata": {},
   "outputs": [],
   "source": []
  }
 ],
 "metadata": {
  "kernelspec": {
   "display_name": "Python 3 (ipykernel)",
   "language": "python",
   "name": "python3"
  },
  "language_info": {
   "codemirror_mode": {
    "name": "ipython",
    "version": 3
   },
   "file_extension": ".py",
   "mimetype": "text/x-python",
   "name": "python",
   "nbconvert_exporter": "python",
   "pygments_lexer": "ipython3",
   "version": "3.12.7"
  }
 },
 "nbformat": 4,
 "nbformat_minor": 5
}
